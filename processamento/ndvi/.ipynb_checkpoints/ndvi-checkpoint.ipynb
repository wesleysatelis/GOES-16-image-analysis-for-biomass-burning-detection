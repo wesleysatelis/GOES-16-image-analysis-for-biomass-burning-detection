{
 "cells": [
  {
   "cell_type": "code",
   "execution_count": 4,
   "metadata": {},
   "outputs": [],
   "source": [
    "import os, fnmatch\n",
    "import pandas as pd\n",
    "import matplotlib.pyplot as plt\n",
    "import numpy as np\n",
    "# import rasterio as rio\n",
    "# from mpl_toolkits.basemap import Basemap"
   ]
  },
  {
   "cell_type": "code",
   "execution_count": 3,
   "metadata": {},
   "outputs": [],
   "source": [
    "def Dates(path, pattern):\n",
    "    files = sorted(os.listdir(path))\n",
    "    dates = []\n",
    "    for file in files:\n",
    "        if pattern in file and file[0:-36] not in dates:\n",
    "            dates.append(file[0:-36])\n",
    "\n",
    "    return(sorted(dates, reverse=True))"
   ]
  },
  {
   "cell_type": "code",
   "execution_count": 4,
   "metadata": {},
   "outputs": [],
   "source": [
    "def Files(path, date, pattern):\n",
    "    files_all = sorted(os.listdir(path))\n",
    "    filenames = []\n",
    "    for file in files_all:\n",
    "        if pattern in file and date in file:\n",
    "            filenames.append(file[0:-8])\n",
    "    return filenames"
   ]
  },
  {
   "cell_type": "code",
   "execution_count": 5,
   "metadata": {},
   "outputs": [],
   "source": [
    "def ndvi_out(path, files):\n",
    "    ndvi = []\n",
    "    for file in files:\n",
    "        band2 = pd.read_csv(path + file + \".C02.txt\", header=None)\n",
    "        band3 = pd.read_csv(path + file + \".C03.txt\", header=None)\n",
    "        if len(ndvi)==0:\n",
    "            ndvi = np.divide(np.subtract(band3,band2), np.add(band2, band3))\n",
    "#             print(file)\n",
    "        else:\n",
    "            ndvi = np.maximum(ndvi, np.divide(np.subtract(band3,band2), np.add(band2, band3)))\n",
    "#             print(file)\n",
    "\n",
    "    np.savetxt(path + file[0:15] + '.NDVI.txt', ndvi)\n",
    "    print(file[0:15] + '.NDVI.txt' + ' saved!')\n",
    "\n",
    "    for file in files:\n",
    "        os.remove(path + file + \".C02.txt\")\n",
    "        os.remove(path + file + \".C03.txt\")"
   ]
  },
  {
   "cell_type": "code",
   "execution_count": 6,
   "metadata": {
    "collapsed": true
   },
   "outputs": [
    {
     "name": "stdout",
     "output_type": "stream",
     "text": [
      "201908190850G16.NDVI.txt saved!\n",
      "201908190750G16.NDVI.txt saved!\n",
      "201908190650G16.NDVI.txt saved!\n",
      "201908190550G16.NDVI.txt saved!\n",
      "201908190450G16.NDVI.txt saved!\n",
      "201908190350G16.NDVI.txt saved!\n",
      "201908190250G16.NDVI.txt saved!\n",
      "201908190150G16.NDVI.txt saved!\n",
      "201908190050G16.NDVI.txt saved!\n",
      "201908182350G16.NDVI.txt saved!\n",
      "201908182250G16.NDVI.txt saved!\n",
      "201908182150G16.NDVI.txt saved!\n",
      "201908182050G16.NDVI.txt saved!\n",
      "201908181950G16.NDVI.txt saved!\n",
      "201908181850G16.NDVI.txt saved!\n",
      "201908181750G16.NDVI.txt saved!\n",
      "201908181650G16.NDVI.txt saved!\n",
      "201907161810G16.NDVI.txt saved!\n",
      "201907161750G16.NDVI.txt saved!\n",
      "201907161650G16.NDVI.txt saved!\n",
      "201907161550G16.NDVI.txt saved!\n",
      "201907161450G16.NDVI.txt saved!\n",
      "201907161350G16.NDVI.txt saved!\n",
      "201907161250G16.NDVI.txt saved!\n",
      "201907161150G16.NDVI.txt saved!\n",
      "201907161050G16.NDVI.txt saved!\n",
      "201907160950G16.NDVI.txt saved!\n",
      "201907160850G16.NDVI.txt saved!\n",
      "201907160750G16.NDVI.txt saved!\n",
      "201907160650G16.NDVI.txt saved!\n",
      "201907160550G16.NDVI.txt saved!\n",
      "201907160450G16.NDVI.txt saved!\n",
      "201907160350G16.NDVI.txt saved!\n",
      "201907160250G16.NDVI.txt saved!\n",
      "201907160150G16.NDVI.txt saved!\n",
      "201907160050G16.NDVI.txt saved!\n",
      "201907152350G16.NDVI.txt saved!\n",
      "201907152250G16.NDVI.txt saved!\n",
      "201907152150G16.NDVI.txt saved!\n",
      "201907152050G16.NDVI.txt saved!\n",
      "201907151950G16.NDVI.txt saved!\n",
      "201907151850G16.NDVI.txt saved!\n",
      "201907151750G16.NDVI.txt saved!\n",
      "201907151650G16.NDVI.txt saved!\n",
      "201907151550G16.NDVI.txt saved!\n",
      "201907151450G16.NDVI.txt saved!\n",
      "201907151350G16.NDVI.txt saved!\n",
      "201907151250G16.NDVI.txt saved!\n",
      "201907151150G16.NDVI.txt saved!\n",
      "201907151050G16.NDVI.txt saved!\n",
      "201907150950G16.NDVI.txt saved!\n",
      "201907150850G16.NDVI.txt saved!\n",
      "201907150750G16.NDVI.txt saved!\n",
      "201907150650G16.NDVI.txt saved!\n",
      "201907150550G16.NDVI.txt saved!\n",
      "201907150450G16.NDVI.txt saved!\n",
      "201907150350G16.NDVI.txt saved!\n",
      "201907150250G16.NDVI.txt saved!\n",
      "201907150150G16.NDVI.txt saved!\n",
      "201907150050G16.NDVI.txt saved!\n",
      "201907142350G16.NDVI.txt saved!\n",
      "201907142250G16.NDVI.txt saved!\n",
      "201907142150G16.NDVI.txt saved!\n",
      "201907142050G16.NDVI.txt saved!\n",
      "201907141950G16.NDVI.txt saved!\n",
      "201907141850G16.NDVI.txt saved!\n",
      "201907141750G16.NDVI.txt saved!\n",
      "201907141650G16.NDVI.txt saved!\n",
      "201907141550G16.NDVI.txt saved!\n",
      "201907141450G16.NDVI.txt saved!\n"
     ]
    }
   ],
   "source": [
    "path = \"/run/media/wesley/7516e311-0543-49f0-a5b4-64733f1ba546/G16.SP_Bandas_2_3--L1B/\"\n",
    "path = \"/run/media/wesley/6CD80ADD0368A759/Cepagri/ndvi/\"\n",
    "pattern = \"SP_Bandas_2_3--L1B.pic.C02\"\n",
    "\n",
    "for date in Dates(path, pattern):\n",
    "    ndvi_out(path, Files(path, date, pattern))"
   ]
  },
  {
   "cell_type": "code",
   "execution_count": null,
   "metadata": {},
   "outputs": [],
   "source": [
    "path = \"/home/wesley/Desktop/G16.SP_Bandas_2_3--L1B/ascii/\"\n",
    "\n",
    "band2 = np.genfromtxt(\"/home/wesley/Desktop/G16.SP_Bandas_2_3--L1B/ascii/201907150500G16.SP_Bandas_2_3--L1B.pic.C02.txt\", delimiter=',')\n",
    "band3 = np.genfromtxt(\"/home/wesley/Desktop/G16.SP_Bandas_2_3--L1B/ascii/201907150500G16.SP_Bandas_2_3--L1B.pic.C03.txt\", delimiter=',')\n",
    "\n",
    "ndvi1 = np.divide(np.subtract(band3,band2), np.add(band3, band2))\n",
    "print(ndvi1)\n",
    "\n",
    "band2 = np.genfromtxt(\"/home/wesley/Desktop/G16.SP_Bandas_2_3--L1B/ascii/201907150510G16.SP_Bandas_2_3--L1B.pic.C02.txt\", delimiter=',')\n",
    "band3 = np.genfromtxt(\"/home/wesley/Desktop/G16.SP_Bandas_2_3--L1B/ascii/201907150510G16.SP_Bandas_2_3--L1B.pic.C03.txt\", delimiter=',')\n",
    "ndvi2 = np.divide(np.subtract(band3,band2), np.add(band3, band2))\n",
    "print(ndvi2)\n",
    "\n",
    "print(np.fmax(ndvi1, ndvi2))"
   ]
  }
 ],
 "metadata": {
  "kernelspec": {
   "display_name": "Python 3",
   "language": "python",
   "name": "python3"
  },
  "language_info": {
   "codemirror_mode": {
    "name": "ipython",
    "version": 3
   },
   "file_extension": ".py",
   "mimetype": "text/x-python",
   "name": "python",
   "nbconvert_exporter": "python",
   "pygments_lexer": "ipython3",
   "version": "3.7.4"
  }
 },
 "nbformat": 4,
 "nbformat_minor": 4
}
