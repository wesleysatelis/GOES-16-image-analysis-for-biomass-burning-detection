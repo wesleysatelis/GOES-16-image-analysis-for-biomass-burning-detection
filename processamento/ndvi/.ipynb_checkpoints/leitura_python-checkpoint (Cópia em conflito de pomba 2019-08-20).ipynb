{
 "cells": [
  {
   "cell_type": "code",
   "execution_count": 2,
   "metadata": {},
   "outputs": [],
   "source": [
    "import os, fnmatch\n",
    "import pandas as pd\n",
    "import matplotlib.pyplot as plt\n",
    "import rasterio as rio\n",
    "\n",
    "os.chdir(\"/home/wesley/Desktop/G16.SP_Bandas_2_3--L1B/ascii/\")\n",
    "listOfFiles = os.listdir('.')\n",
    "pattern = \"*SP_Bandas_2_3--L1B.pic*\"\n",
    "# print(listOfFiles)\n",
    "\n",
    "entrys = []\n",
    "for entry in listOfFiles:\n",
    "    if entry not in entrys:\n",
    "        entrys.append(entry[0:-8])\n",
    "\n",
    "# for i in entrys:\n",
    "#     print(i)\n",
    "#     band3 = pd.read_csv(i + '.C03.txt', header=None)\n",
    "#     band2 = pd.read_csv(i + '.C02.txt', header=None)\n",
    "#     ndvi = (band3 - band2)/(band2 + band3)\n",
    "#     fig = plt.imshow(ndvi)\n",
    "#     plt.axis('off')\n",
    "#     fig.axes.get_xaxis().set_visible(False)\n",
    "#     fig.axes.get_yaxis().set_visible(False)\n",
    "#     plt.savefig(i + '.png', format='png', bbox_inches='tight', pad_inches = 0)"
   ]
  },
  {
   "cell_type": "code",
   "execution_count": 3,
   "metadata": {},
   "outputs": [],
   "source": [
    "import numpy as np\n",
    "minlon = -53.50\n",
    "maxlon = -44.0\n",
    "nlon = 2019\n",
    "steplon = abs(maxlon - minlon)/nlon\n",
    "# print(steplon)\n",
    "\n",
    "minlat = -25.50\n",
    "maxlat = -19.50\n",
    "nlat = 1332\n",
    "steplat = abs(minlat - maxlat)/nlat\n",
    "# print(steplat)"
   ]
  },
  {
   "cell_type": "code",
   "execution_count": 4,
   "metadata": {},
   "outputs": [
    {
     "name": "stdout",
     "output_type": "stream",
     "text": [
      "[-53.5       -53.4952947 -53.4905894 ... -44.0141159 -44.0094106\n",
      " -44.0047053]\n",
      "[-25.5        -25.4954955  -25.49099099 ... -19.51351351 -19.50900901\n",
      " -19.5045045 ]\n"
     ]
    }
   ],
   "source": [
    "lon = np.arange(minlon, maxlon, steplon, dtype='float')\n",
    "print(lon)\n",
    "\n",
    "lat = np.arange(minlat, maxlat, steplat, dtype='float')\n",
    "print(lat)\n",
    "\n",
    "# lat1,lon1 = np.array([lat, lon])\n",
    "\n",
    "# print(lat1, lon1)"
   ]
  },
  {
   "cell_type": "code",
   "execution_count": 13,
   "metadata": {},
   "outputs": [
    {
     "ename": "RasterioIOError",
     "evalue": "/home/wesley/G16.SP_Bandas_2_3--L1B/201907172300G16.SP_Bandas_2_3--L1B.pic.hdf.h5: No such file or directory",
     "output_type": "error",
     "traceback": [
      "\u001b[0;31m---------------------------------------------------------------------------\u001b[0m",
      "\u001b[0;31mCPLE_OpenFailedError\u001b[0m                      Traceback (most recent call last)",
      "\u001b[0;32mrasterio/_base.pyx\u001b[0m in \u001b[0;36mrasterio._base.DatasetBase.__init__\u001b[0;34m()\u001b[0m\n",
      "\u001b[0;32mrasterio/_shim.pyx\u001b[0m in \u001b[0;36mrasterio._shim.open_dataset\u001b[0;34m()\u001b[0m\n",
      "\u001b[0;32mrasterio/_err.pyx\u001b[0m in \u001b[0;36mrasterio._err.exc_wrap_pointer\u001b[0;34m()\u001b[0m\n",
      "\u001b[0;31mCPLE_OpenFailedError\u001b[0m: /home/wesley/G16.SP_Bandas_2_3--L1B/201907172300G16.SP_Bandas_2_3--L1B.pic.hdf.h5: No such file or directory",
      "\nDuring handling of the above exception, another exception occurred:\n",
      "\u001b[0;31mRasterioIOError\u001b[0m                           Traceback (most recent call last)",
      "\u001b[0;32m<ipython-input-13-6ab7da9380dc>\u001b[0m in \u001b[0;36m<module>\u001b[0;34m\u001b[0m\n\u001b[1;32m      2\u001b[0m \u001b[0;32mimport\u001b[0m \u001b[0mrasterio\u001b[0m \u001b[0;32mas\u001b[0m \u001b[0mrio\u001b[0m\u001b[0;34m\u001b[0m\u001b[0;34m\u001b[0m\u001b[0m\n\u001b[1;32m      3\u001b[0m \u001b[0;34m\u001b[0m\u001b[0m\n\u001b[0;32m----> 4\u001b[0;31m \u001b[0mdata\u001b[0m \u001b[0;34m=\u001b[0m \u001b[0mrio\u001b[0m\u001b[0;34m.\u001b[0m\u001b[0mopen\u001b[0m\u001b[0;34m(\u001b[0m\u001b[0;34m\"/home/wesley/G16.SP_Bandas_2_3--L1B/201907172300G16.SP_Bandas_2_3--L1B.pic.hdf.h5\"\u001b[0m\u001b[0;34m)\u001b[0m\u001b[0;34m\u001b[0m\u001b[0;34m\u001b[0m\u001b[0m\n\u001b[0m\u001b[1;32m      5\u001b[0m \u001b[0mdata\u001b[0m\u001b[0;34m.\u001b[0m\u001b[0mbounds\u001b[0m\u001b[0;34m\u001b[0m\u001b[0;34m\u001b[0m\u001b[0m\n\u001b[1;32m      6\u001b[0m \u001b[0mprint\u001b[0m\u001b[0;34m(\u001b[0m\u001b[0mdata\u001b[0m\u001b[0;34m)\u001b[0m\u001b[0;34m\u001b[0m\u001b[0;34m\u001b[0m\u001b[0m\n",
      "\u001b[0;32m~/anaconda3/lib/python3.7/site-packages/rasterio/env.py\u001b[0m in \u001b[0;36mwrapper\u001b[0;34m(*args, **kwds)\u001b[0m\n\u001b[1;32m    421\u001b[0m \u001b[0;34m\u001b[0m\u001b[0m\n\u001b[1;32m    422\u001b[0m         \u001b[0;32mwith\u001b[0m \u001b[0menv_ctor\u001b[0m\u001b[0;34m(\u001b[0m\u001b[0msession\u001b[0m\u001b[0;34m=\u001b[0m\u001b[0msession\u001b[0m\u001b[0;34m)\u001b[0m\u001b[0;34m:\u001b[0m\u001b[0;34m\u001b[0m\u001b[0;34m\u001b[0m\u001b[0m\n\u001b[0;32m--> 423\u001b[0;31m             \u001b[0;32mreturn\u001b[0m \u001b[0mf\u001b[0m\u001b[0;34m(\u001b[0m\u001b[0;34m*\u001b[0m\u001b[0margs\u001b[0m\u001b[0;34m,\u001b[0m \u001b[0;34m**\u001b[0m\u001b[0mkwds\u001b[0m\u001b[0;34m)\u001b[0m\u001b[0;34m\u001b[0m\u001b[0;34m\u001b[0m\u001b[0m\n\u001b[0m\u001b[1;32m    424\u001b[0m \u001b[0;34m\u001b[0m\u001b[0m\n\u001b[1;32m    425\u001b[0m     \u001b[0;32mreturn\u001b[0m \u001b[0mwrapper\u001b[0m\u001b[0;34m\u001b[0m\u001b[0;34m\u001b[0m\u001b[0m\n",
      "\u001b[0;32m~/anaconda3/lib/python3.7/site-packages/rasterio/__init__.py\u001b[0m in \u001b[0;36mopen\u001b[0;34m(fp, mode, driver, width, height, count, crs, transform, dtype, nodata, sharing, **kwargs)\u001b[0m\n\u001b[1;32m    214\u001b[0m         \u001b[0;31m# None.\u001b[0m\u001b[0;34m\u001b[0m\u001b[0;34m\u001b[0m\u001b[0;34m\u001b[0m\u001b[0m\n\u001b[1;32m    215\u001b[0m         \u001b[0;32mif\u001b[0m \u001b[0mmode\u001b[0m \u001b[0;34m==\u001b[0m \u001b[0;34m'r'\u001b[0m\u001b[0;34m:\u001b[0m\u001b[0;34m\u001b[0m\u001b[0;34m\u001b[0m\u001b[0m\n\u001b[0;32m--> 216\u001b[0;31m             \u001b[0ms\u001b[0m \u001b[0;34m=\u001b[0m \u001b[0mDatasetReader\u001b[0m\u001b[0;34m(\u001b[0m\u001b[0mpath\u001b[0m\u001b[0;34m,\u001b[0m \u001b[0mdriver\u001b[0m\u001b[0;34m=\u001b[0m\u001b[0mdriver\u001b[0m\u001b[0;34m,\u001b[0m \u001b[0;34m**\u001b[0m\u001b[0mkwargs\u001b[0m\u001b[0;34m)\u001b[0m\u001b[0;34m\u001b[0m\u001b[0;34m\u001b[0m\u001b[0m\n\u001b[0m\u001b[1;32m    217\u001b[0m         \u001b[0;32melif\u001b[0m \u001b[0mmode\u001b[0m \u001b[0;34m==\u001b[0m \u001b[0;34m'r+'\u001b[0m\u001b[0;34m:\u001b[0m\u001b[0;34m\u001b[0m\u001b[0;34m\u001b[0m\u001b[0m\n\u001b[1;32m    218\u001b[0m             \u001b[0ms\u001b[0m \u001b[0;34m=\u001b[0m \u001b[0mget_writer_for_path\u001b[0m\u001b[0;34m(\u001b[0m\u001b[0mpath\u001b[0m\u001b[0;34m)\u001b[0m\u001b[0;34m(\u001b[0m\u001b[0mpath\u001b[0m\u001b[0;34m,\u001b[0m \u001b[0mmode\u001b[0m\u001b[0;34m,\u001b[0m \u001b[0mdriver\u001b[0m\u001b[0;34m=\u001b[0m\u001b[0mdriver\u001b[0m\u001b[0;34m,\u001b[0m \u001b[0;34m**\u001b[0m\u001b[0mkwargs\u001b[0m\u001b[0;34m)\u001b[0m\u001b[0;34m\u001b[0m\u001b[0;34m\u001b[0m\u001b[0m\n",
      "\u001b[0;32mrasterio/_base.pyx\u001b[0m in \u001b[0;36mrasterio._base.DatasetBase.__init__\u001b[0;34m()\u001b[0m\n",
      "\u001b[0;31mRasterioIOError\u001b[0m: /home/wesley/G16.SP_Bandas_2_3--L1B/201907172300G16.SP_Bandas_2_3--L1B.pic.hdf.h5: No such file or directory"
     ]
    }
   ],
   "source": [
    "import matplotlib.pyplot as plt\n",
    "import rasterio as rio\n",
    "\n",
    "data = rio.open(\"/home/wesley/G16.SP_Bandas_2_3--L1B/201907172300G16.SP_Bandas_2_3--L1B.pic.hdf.h5\")\n",
    "data.bounds\n",
    "print(data)\n",
    "# fig = plt.imshow(ndvi)\n",
    "# plt.axis('off')\n",
    "# fig.axes.get_xaxis().set_visible(False)\n",
    "# fig.axes.get_yaxis().set_visible(False)\n",
    "# plt.savefig('ndvi.png', dpi=100, format='png', bbox_inches='tight', pad_inches = 0)"
   ]
  },
  {
   "cell_type": "code",
   "execution_count": null,
   "metadata": {},
   "outputs": [],
   "source": [
    "plt.imshow(ndvi)"
   ]
  },
  {
   "cell_type": "code",
   "execution_count": null,
   "metadata": {},
   "outputs": [],
   "source": [
    "from matplotlib.patches import Rectangle # Library to draw rectangles on the plot\n",
    "# from mpl_toolkits.basemap import Basemap # Import the Basemap toolkit\n",
    "\n",
    "# Define the size of the saved picture\n",
    "DPI = 150\n",
    "ax = plt.figure(figsize=(2000/float(DPI), 2000/float(DPI)), frameon=True, dpi=DPI)\n",
    "# Plot the Data\n",
    "# Create the basemap reference for the Rectangular Projection\n",
    "# bmap = Basemap(llcrnrlon=extent[0], llcrnrlat=extent[1], urcrnrlon=extent[2], urcrnrlat=extent[3], epsg=4326)\n",
    "\n",
    "# # Plot the GOES-16 channel with the converted CPT colors (you may alter the min and max to match your preference)\n",
    "# bmap.imshow(data)"
   ]
  },
  {
   "cell_type": "code",
   "execution_count": 23,
   "metadata": {},
   "outputs": [
    {
     "name": "stdout",
     "output_type": "stream",
     "text": [
      "<class 'netCDF4._netCDF4.Variable'>\n",
      "float32 C01_LUT(C01)\n",
      "unlimited dimensions: \n",
      "current shape = (65536,)\n",
      "filling on, default _FillValue of 9.969209968386869e+36 used\n",
      "\n",
      "[ -4.17  -4.04  -3.91 ... 655.33 655.34 655.35]\n",
      "[[32 32 32 ... 32 32 32]\n",
      " [32 32 32 ... 32 32 32]\n",
      " [32 32 32 ... 32 32 32]\n",
      " ...\n",
      " [32 32 32 ... 32 32 32]\n",
      " [32 32 32 ... 32 32 32]\n",
      " [32 32 32 ... 32 32 32]]\n"
     ]
    }
   ],
   "source": [
    "# TESTAR COM OUTROS NETCDFS\n",
    "# ===========================================================\n",
    "from netCDF4 import Dataset\n",
    "import h5py\n",
    "import numpy as np\n",
    "rootgrp = Dataset(\"/home/wesley/Desktop/G16.SP_Bandas_2_3--L1B/201907172300G16.SP_Bandas_2_3--L1B.pic.nc\")\n",
    "# print(rootgrp.data_model)\n",
    "\n",
    "# print(rootgrp.variables.keys())\n",
    "\n",
    "# print (rootgrp.__dict__)\n",
    "\n",
    "# print (rootgrp[\"LATITUDE\"].variables['ground_pixel'][0])\n",
    "\n",
    "c01 = rootgrp.variables['C01_LUT'][:]\n",
    "# c02 = rootgrp.variables['C02_LUT'][:]\n",
    "# c03 = rootgrp.variables['C03_LUT'][:]\n",
    "\n",
    "# nlats = len(rootgrp.dimensions['lat'])\n",
    "\n",
    "c01 = rootgrp.variables['C01_LUT']\n",
    "# print(c01)\n",
    "c01 = c01[:]\n",
    "print(c01)\n",
    "# len(c01)\n",
    "\n",
    "# lat, lon = rootgrp.variables['LATITUDE'], rootgrp.variables['LONGITUDE']\n",
    "# coor.shape\n",
    "# print(coor.variables['LATITUDE'])\n",
    "# print(data)\n",
    "# print(data.variables.keys())\n",
    "coor = rootgrp.variables['C01_DATA'][:]\n",
    "# coor = coor.astype(float)\n",
    "# print(type(coor))\n",
    "\n",
    "# count =0\n",
    "# print(np.float64(coor.shape))\n",
    "# print((coor[0]))\n",
    "# for i in coor:\n",
    "#     print(type(i))\n",
    "#     for j in i:\n",
    "#         print(type(j))\n",
    "        \n",
    "#     print(str(i)+'___')\n",
    "#     count +=1\n",
    "#     print(len(i))\n",
    "#     print (count)\n",
    "# print(coor.ncattrs())\n",
    "# img = data.variables['C01_LUT']\n",
    "# print(coor.dimensions)\n",
    "# print(coor.shape)\n",
    "\n",
    "# print(img.dimensions)\n",
    "# print(img.shape)\n",
    "\n",
    "print(coor)\n",
    "# print(img)\n",
    "\n",
    "# for i in data.dimensions.items():\n",
    "#     print(i)\n",
    "\n",
    "# c01 = data.variables['C01_DATA']"
   ]
  },
  {
   "cell_type": "code",
   "execution_count": 15,
   "metadata": {},
   "outputs": [
    {
     "ename": "NameError",
     "evalue": "name 'data' is not defined",
     "output_type": "error",
     "traceback": [
      "\u001b[0;31m---------------------------------------------------------------------------\u001b[0m",
      "\u001b[0;31mNameError\u001b[0m                                 Traceback (most recent call last)",
      "\u001b[0;32m<ipython-input-15-92b2795f0227>\u001b[0m in \u001b[0;36m<module>\u001b[0;34m\u001b[0m\n\u001b[1;32m      1\u001b[0m \u001b[0;31m# print(data)\u001b[0m\u001b[0;34m\u001b[0m\u001b[0;34m\u001b[0m\u001b[0;34m\u001b[0m\u001b[0m\n\u001b[1;32m      2\u001b[0m \u001b[0;31m# print(data.variables.keys())\u001b[0m\u001b[0;34m\u001b[0m\u001b[0;34m\u001b[0m\u001b[0;34m\u001b[0m\u001b[0m\n\u001b[0;32m----> 3\u001b[0;31m \u001b[0mc01\u001b[0m \u001b[0;34m=\u001b[0m \u001b[0mdata\u001b[0m\u001b[0;34m.\u001b[0m\u001b[0mvariables\u001b[0m\u001b[0;34m[\u001b[0m\u001b[0;34m'C01_LUT'\u001b[0m\u001b[0;34m]\u001b[0m\u001b[0;34m\u001b[0m\u001b[0;34m\u001b[0m\u001b[0m\n\u001b[0m\u001b[1;32m      4\u001b[0m \u001b[0;31m# print(c01)\u001b[0m\u001b[0;34m\u001b[0m\u001b[0;34m\u001b[0m\u001b[0;34m\u001b[0m\u001b[0m\n\u001b[1;32m      5\u001b[0m \u001b[0;34m\u001b[0m\u001b[0m\n",
      "\u001b[0;31mNameError\u001b[0m: name 'data' is not defined"
     ]
    }
   ],
   "source": [
    "# print(data)\n",
    "# print(data.variables.keys())\n",
    "c01 = data.variables['C01_LUT']\n",
    "# print(c01)\n",
    "\n",
    "\n",
    "# print(type(data.dimensions.items()))\n",
    "# for i in data.dimensions.items():\n",
    "#     print(i)"
   ]
  },
  {
   "cell_type": "code",
   "execution_count": 16,
   "metadata": {},
   "outputs": [
    {
     "ename": "NameError",
     "evalue": "name 'data' is not defined",
     "output_type": "error",
     "traceback": [
      "\u001b[0;31m---------------------------------------------------------------------------\u001b[0m",
      "\u001b[0;31mNameError\u001b[0m                                 Traceback (most recent call last)",
      "\u001b[0;32m<ipython-input-16-6e53e0560ae4>\u001b[0m in \u001b[0;36m<module>\u001b[0;34m\u001b[0m\n\u001b[0;32m----> 1\u001b[0;31m \u001b[0mdata\u001b[0m\u001b[0;34m.\u001b[0m\u001b[0mvariables\u001b[0m\u001b[0;34m[\u001b[0m\u001b[0;34m'C01_LUT'\u001b[0m\u001b[0;34m]\u001b[0m\u001b[0;34m[\u001b[0m\u001b[0;36m2\u001b[0m\u001b[0;34m]\u001b[0m\u001b[0;34m\u001b[0m\u001b[0;34m\u001b[0m\u001b[0m\n\u001b[0m",
      "\u001b[0;31mNameError\u001b[0m: name 'data' is not defined"
     ]
    }
   ],
   "source": [
    "data.variables['C01_LUT'][2]"
   ]
  },
  {
   "cell_type": "code",
   "execution_count": 153,
   "metadata": {},
   "outputs": [
    {
     "name": "stdout",
     "output_type": "stream",
     "text": [
      "<class 'numpy.ma.core.MaskedArray'>\n"
     ]
    }
   ],
   "source": [
    "c = c01[:]\n",
    "print(type(c))"
   ]
  },
  {
   "cell_type": "code",
   "execution_count": 154,
   "metadata": {},
   "outputs": [
    {
     "ename": "ModuleNotFoundError",
     "evalue": "No module named 'scipy'",
     "output_type": "error",
     "traceback": [
      "\u001b[0;31m---------------------------------------------------------------------------\u001b[0m",
      "\u001b[0;31mModuleNotFoundError\u001b[0m                       Traceback (most recent call last)",
      "\u001b[0;32m<ipython-input-154-aa483e0a12c0>\u001b[0m in \u001b[0;36m<module>\u001b[0;34m\u001b[0m\n\u001b[0;32m----> 1\u001b[0;31m \u001b[0;32mfrom\u001b[0m \u001b[0mscipy\u001b[0m\u001b[0;34m.\u001b[0m\u001b[0mio\u001b[0m \u001b[0;32mimport\u001b[0m \u001b[0mnetcdf\u001b[0m\u001b[0;34m\u001b[0m\u001b[0;34m\u001b[0m\u001b[0m\n\u001b[0m",
      "\u001b[0;31mModuleNotFoundError\u001b[0m: No module named 'scipy'"
     ]
    }
   ],
   "source": [
    "from scipy.io import netcdf"
   ]
  },
  {
   "cell_type": "code",
   "execution_count": 14,
   "metadata": {},
   "outputs": [
    {
     "data": {
      "text/plain": [
       "odict_keys(['lat', 'lon', 'time', 'reftime', 'time1', 'reftime1', 'ordered_sequence_of_data', 'LatLon_Projection', 'Direction_of_swell_waves_ordered_sequence_of_data', 'Mean_period_of_swell_waves_ordered_sequence_of_data', 'Significant_height_of_swell_waves_ordered_sequence_of_data', 'Wave_Steepness_surface', 'Wind_direction_from_which_blowing_surface', 'Wind_speed_surface', 'u-component_of_wind_surface', 'Significant_height_of_combined_wind_waves_and_swell_surface', 'v-component_of_wind_surface', 'Direction_of_wind_waves_surface', 'Significant_height_of_wind_waves_surface', 'Mean_period_of_wind_waves_surface', 'Primary_wave_direction_surface', 'Primary_wave_mean_period_surface'])"
      ]
     },
     "execution_count": 14,
     "metadata": {},
     "output_type": "execute_result"
    }
   ],
   "source": [
    "import netCDF4\n",
    "import pandas as pd\n",
    "import matplotlib.pyplot as plt\n",
    "\n",
    "# NetCDF4-Python can read a remote OPeNDAP dataset or a local NetCDF file:\n",
    "url='http://thredds.ucar.edu/thredds/dodsC/grib/NCEP/WW3/Global/Best'\n",
    "nc = netCDF4.Dataset(url)\n",
    "nc.variables.keys()"
   ]
  },
  {
   "cell_type": "code",
   "execution_count": null,
   "metadata": {},
   "outputs": [],
   "source": [
    "# import h5py\n",
    "# f = h5py.File('/home/wesley/G16.SP_Bandas_2_3--L1B/201907172300G16.SP_Bandas_2_3--L1B.pic.hdf.h5', 'r')\n",
    "# list(f.keys())\n",
    "# c2 = f['C02_DATA'][:]\n",
    "# print(c2.shape)\n",
    "# print(c2.dtype)\n",
    "# print(c1_lut.shape)\n",
    "# print(c1_lut.dtype)\n",
    "\n",
    "\n",
    "# c3 = f['C03_LUT'][:]\n",
    "# c1_lut = f['C01_LUT']\n",
    "# ndvi = (c3-c2)/(c3+c2)\n",
    "# # print(c1_lut)\n",
    "# print(c3)\n",
    "# plot.show(ndvi)"
   ]
  }
 ],
 "metadata": {
  "kernelspec": {
   "display_name": "Python 3",
   "language": "python",
   "name": "python3"
  },
  "language_info": {
   "codemirror_mode": {
    "name": "ipython",
    "version": 3
   },
   "file_extension": ".py",
   "mimetype": "text/x-python",
   "name": "python",
   "nbconvert_exporter": "python",
   "pygments_lexer": "ipython3",
   "version": "3.7.3"
  }
 },
 "nbformat": 4,
 "nbformat_minor": 4
}
